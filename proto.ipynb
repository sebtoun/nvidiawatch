{
 "cells": [
  {
   "cell_type": "code",
   "execution_count": 2,
   "metadata": {
    "collapsed": true
   },
   "outputs": [],
   "source": [
    "from bs4 import BeautifulSoup\n",
    "from datetime import datetime\n",
    "from  urllib.parse import quote, urlencode, urlparse\n",
    "import json\n",
    "from pprint import PrettyPrinter\n",
    "pp = PrettyPrinter(indent=4)\n",
    "\n",
    "import requests\n",
    "\n",
    "def make_soup(content):\n",
    "    return BeautifulSoup(content, 'html.parser')"
   ]
  },
  {
   "cell_type": "code",
   "execution_count": 3,
   "outputs": [],
   "source": [
    "USER_AGENT = \"Mozilla/5.0 (Windows NT 10.0; Win64; x64) AppleWebKit/537.36 (KHTML, like Gecko) Chrome/87.0.4280.88 \" \\\n",
    "             \"Safari/537.36 \"\n",
    "\n",
    "keywords=[\"ryzen\", \"5900x\"]\n",
    "\n",
    "headers = {\n",
    "    'user-agent': USER_AGENT,\n",
    "    # \"accept-language\": \"fr-FR,fr;q=0.9,en-US;q=0.8,en;q=0.7\"\n",
    "}\n",
    "\n",
    "url = f\"https://www.cybertek.fr/boutique/produit.aspx?q=ryzen%2b9%2b5900x\"\n",
    "\n",
    "session = requests.Session()\n",
    "session.headers.update(headers)\n",
    "\n",
    "session.cookies.set(\"pmuser_country\", \"fr\", domain=\"www.amd.com\")\n",
    "resp = session.get(url)\n",
    "resp.raise_for_status()\n"
   ],
   "metadata": {
    "collapsed": false,
    "pycharm": {
     "name": "#%%\n"
    }
   }
  },
  {
   "cell_type": "code",
   "execution_count": 6,
   "outputs": [
    {
     "name": "stdout",
     "output_type": "stream",
     "text": [
      "('AMD Ryzen 9 5900X - 4.8GHz/70Mo/AM4/Ss Vent./BOX', 749.99, False, 'https://www.cybertek.fr/processeur/amd/50800.aspx')\n",
      "('AMD Ryzen 9 5950X - 4.9GHz/72Mo/AM4/Ss Vent./BOX', 1049.99, False, 'https://www.cybertek.fr/processeur/amd/50801.aspx')\n",
      "('AMD Ryzen 9 3950X - 4.7GHz/70Mo/AM4/BOX', 879.99, False, 'https://www.cybertek.fr/processeur/amd/45895.aspx')\n",
      "('AMD Ryzen 9 3900XT - 3.8GHz/64Mo/AM4/BOX/Ss vent', 599.99, True, 'https://www.cybertek.fr/processeur/amd/47516.aspx')\n",
      "('AMD Ryzen 9 3900X - 4.6GHz/70Mo/AM4/BOX', 579.99, True, 'https://www.cybertek.fr/processeur/amd/37770.aspx')\n",
      "('AMD Ryzen 5 3600XT - 3.8GHz/32Mo/AM4/BOX', 289.99, False, 'https://www.cybertek.fr/processeur/amd/47514.aspx')\n",
      "('AMD Ryzen 7 3800XT - 3.9GHz/32Mo/AM4/BOX/Ss vent', 449.99, True, 'https://www.cybertek.fr/processeur/amd/47515.aspx')\n",
      "('AMD Ryzen 5 3400G - 4.2GHz/6Mo/AM4/BOX', 189.99, False, 'https://www.cybertek.fr/processeur/amd/37765.aspx')\n",
      "('AMD Ryzen 7 3800X - 4.5GHz/36Mo/AM4/BOX', 439.99, True, 'https://www.cybertek.fr/processeur/amd/37769.aspx')\n",
      "('AMD Ryzen 7 3700X - 4.4GHz/36Mo/AM4/BOX', 379.99, True, 'https://www.cybertek.fr/processeur/amd/37768.aspx')\n",
      "('AMD Ryzen 3 PRO 4350G - 4.1GHz/6Mo/AM4/MPK', 169.99, False, 'https://www.cybertek.fr/processeur/amd/47890.aspx')\n",
      "('AMD Ryzen 5 PRO 4650G - 4.3GHz/11Mo/AM4/MPK', 219.99, True, 'https://www.cybertek.fr/processeur/amd/47891.aspx')\n",
      "('AMD Ryzen 7 PRO 4750G - 4.4GHz/12Mo/AM4/MPK', 379.99, False, 'https://www.cybertek.fr/processeur/amd/47892.aspx')\n",
      "('AMD Ryzen 5 5600X - 4.6GHz/35Mo/AM4/BOX', 449.99, True, 'https://www.cybertek.fr/processeur/amd/50798.aspx')\n",
      "('AMD Ryzen 7 5800X - 4.7GHz/36Mo/AM4/Ss Vent./BOX', 559.99, True, 'https://www.cybertek.fr/processeur/amd/50799.aspx')\n",
      "('AMD Ryzen Threadripper 3960X - 3.8GHz/128Mo/TRX4/ss V', 1492.99, False, 'https://www.cybertek.fr/processeur/amd/46316.aspx')\n",
      "('AMD Ryzen ThreadRipper 2990WX + X399 SLI PLUS', 1849.99, False, 'https://www.cybertek.fr/kit-evolution-pc/amd/47271.aspx')\n",
      "('AMD Ryzen Threadripper 3990X - 4.3GHz/288Mo/TRX4/ss V', 4170.99, False, 'https://www.cybertek.fr/processeur/amd/46631.aspx')\n",
      "('Be Quiet! ATX 500W - System Power 9 - BN246', 64.99, True, 'https://www.cybertek.fr/alimentation/be-quiet!/33035.aspx')\n",
      "('Be Quiet! ATX 700W - System Power 9 - BN248', 79.99, False, 'https://www.cybertek.fr/alimentation/be-quiet!/33037.aspx')\n",
      "('AMD Ryzen 7 2700X - 4.35GHz/20Mo/AM4/BOX', 219.99, False, 'https://www.cybertek.fr/processeur/amd/33506.aspx')\n",
      "('AMD Ryzen 5 1600 - 3.6GHz/19Mo/AM4/Stealth/BOX', 119.99, False, 'https://www.cybertek.fr/processeur/amd/46340.aspx')\n",
      "('AMD Ryzen ThreadRipper 2990WX - 3GHz/64Mo/TR4/Tray', 1599.99, True, 'https://www.cybertek.fr/processeur/amd/47265.aspx')\n",
      "('AMD Ryzen Threadripper 3970X - 3.7GHz/128Mo/TRX4', 2122.99, False, 'https://www.cybertek.fr/processeur/amd/46275.aspx')\n",
      "('AMD Ryzen 3 3200G - 4GHz/6Mo/AM4/BOX', 129.99, False, 'https://www.cybertek.fr/processeur/amd/37764.aspx')\n",
      "('No Name Multiprise 19\" 9 prises C13 avec Voyant', 34.99, False, 'https://www.cybertek.fr/onduleur-multiprises/generique/37462.aspx')\n",
      "('Be Quiet! ATX 400W - System Power 9 CM - BN300', 59.99, True, 'https://www.cybertek.fr/alimentation/be-quiet!/45493.aspx')\n",
      "('Be Quiet! ATX 500W - System Power 9 CM - BN301', 69.99, False, 'https://www.cybertek.fr/alimentation/be-quiet!/45494.aspx')\n",
      "('Be Quiet! ATX 600W - System Power 9 CM - BN302', 79.99, True, 'https://www.cybertek.fr/alimentation/be-quiet!/45495.aspx')\n",
      "('Be Quiet! ATX 700W - System Power 9 CM - BN303', 89.99, False, 'https://www.cybertek.fr/alimentation/be-quiet!/45496.aspx')\n"
     ]
    }
   ],
   "source": [
    "bs = make_soup(resp.content)\n",
    "\n",
    "items = bs.select(\".liste-produits .lst_grid > div\")\n",
    "\n",
    "result = []\n",
    "for item in items:\n",
    "    title = item.select_one(\".nom-produit h2\").get_text().strip()\n",
    "    item_url_path = item.find(\"a\", recursive=False).attrs[\"href\"]\n",
    "    in_stock = \"listing_dispo\" in item[\"class\"]\n",
    "    price = float(item.select_one('.prix-produit').get_text().replace('€', '.').strip())\n",
    "    result.append((title, price, in_stock, item_url_path))\n",
    "\n",
    "\n",
    "for r in result:\n",
    "    print(r)"
   ],
   "metadata": {
    "collapsed": false,
    "pycharm": {
     "name": "#%%\n"
    }
   }
  },
  {
   "cell_type": "code",
   "execution_count": null,
   "outputs": [],
   "source": [
    "resp_json = resp.json()\n",
    "pp.pprint(resp_json[\"produits\"][0])"
   ],
   "metadata": {
    "collapsed": false,
    "pycharm": {
     "name": "#%%\n"
    }
   }
  },
  {
   "cell_type": "code",
   "execution_count": 72,
   "outputs": [
    {
     "name": "stdout",
     "output_type": "stream",
     "text": [
      "{   '@context': 'http://schema.org/',\n",
      "    '@type': 'Product',\n",
      "    'brand': {'@type': 'Brand', 'name': 'EVGA'},\n",
      "    'description': 'La carte graphique EVGA GeForce RTX 3080 XC3 GAMING '\n",
      "                   'embarque 10 Go de mémoire vidéo de nouvelle génération '\n",
      "                   \"GDDR6X. Ce modèle overclocké d'usine bénéficie de \"\n",
      "                   \"fréquences de fonctionnement élevées et d'un système de \"\n",
      "                   'refroidissement amélioré gage de fiabilité et de '\n",
      "                   'performances à long terme.',\n",
      "    'mpn': '10G-P5-3883-KR',\n",
      "    'name': 'EVGA GeForce RTX 3080 XC3 GAMING',\n",
      "    'offers': {   '@type': 'Offer',\n",
      "                  'availability': 'http://schema.org/OutOfStock',\n",
      "                  'price': '863.95',\n",
      "                  'priceCurrency': 'EUR'}}\n"
     ]
    }
   ],
   "source": [
    "metadata = bs.find(\"script\", attrs={'type':'application/ld+json'})\n",
    "pp.pprint(json.loads(metadata.string))"
   ],
   "metadata": {
    "collapsed": false,
    "pycharm": {
     "name": "#%%\n"
    }
   }
  },
  {
   "cell_type": "code",
   "execution_count": 90,
   "outputs": [
    {
     "name": "stdout",
     "output_type": "stream",
     "text": [
      "\n",
      "EVGA GeForce RTX 3090 FTW3 GAMING\n",
      "24 Go GDDR6X - HDMI/Tri DisplayPort - PCI Express (NVIDIA GeForce RTX 3090)\n",
      "\n",
      "\n",
      "Call of Duty : Black Ops Cold War offert avec NVIDIA\n",
      "                    \n",
      "\n",
      "\n"
     ]
    },
    {
     "data": {
      "text/plain": "'9'"
     },
     "execution_count": 90,
     "metadata": {},
     "output_type": "execute_result"
    }
   ],
   "source": [
    "import re\n",
    "item = items[0]\n",
    "print(item.find(class_=\"description\").get_text())\n",
    "item_id = item.attrs[\"id\"]\n",
    "script_data = ''.join(s.string for s in bs.find_all(\"script\", attrs={\"src\": None}))\n",
    "re.search(\"#{id}.*?stock-wrapper.*?stock-([0-9])\".format(id=item_id), script_data)[1]"
   ],
   "metadata": {
    "collapsed": false,
    "pycharm": {
     "name": "#%%\n"
    }
   }
  },
  {
   "cell_type": "code",
   "execution_count": 77,
   "outputs": [],
   "source": [
    "target_url = \"https://www.materiel.net/product-listing/stock-price/\"\n",
    "# target_url = \"https://shop.hardware.fr/stock-price/\"\n",
    "headers = {\n",
    "    'user-agent': \"Mozilla/5.0 (Windows NT 10.0; Win64; x64) AppleWebKit/537.36 (KHTML, like Gecko) Chrome/87.0.4280.88 Safari/537.36\",\n",
    "    # 'content-type': 'application/x-www-form-urlencoded; charset=UTF-8',\n",
    "    'x-requested-with': 'XMLHttpRequest'\n",
    "}\n",
    "# payload = \"json=%7B%22currencyISOCode3%22%3A%22EUR%22%2C%22offers%22%3A%5B%7B%22offerId%22%3A%22AR202009090100%22%2C%22marketplace%22%3Afalse%7D%2C%7B%22offerId%22%3A%22AR202009090101%22%2C%22marketplace%22%3Afalse%7D%2C%7B%22offerId%22%3A%22AR202012070098%22%2C%22marketplace%22%3Afalse%7D%2C%7B%22offerId%22%3A%22AR202009090098%22%2C%22marketplace%22%3Afalse%7D%2C%7B%22offerId%22%3A%22AR202009090099%22%2C%22marketplace%22%3Afalse%7D%2C%7B%22offerId%22%3A%22AR202009100088%22%2C%22marketplace%22%3Afalse%7D%2C%7B%22offerId%22%3A%22AR202012070099%22%2C%22marketplace%22%3Afalse%7D%5D%2C%22shops%22%3A%5B%7B%22shopId%22%3A-1%7D%5D%7D&shopId=-1&displayGroups=Web&shopsAvailability=%7B%22AR202009090100%22%3A%220%22%2C%22AR202009090101%22%3A%220%22%2C%22AR202012070098%22%3A%220%22%2C%22AR202009090098%22%3A%220%22%2C%22AR202009090099%22%3A%220%22%2C%22AR202009100088%22%3A%220%22%2C%22AR202012070099%22%3A%220%22%7D\"\n",
    "# payload = \"json=%7B%22currencyISOCode3%22%3A+%22EUR%22%2C+%22offers%22%3A+%5B%7B%22offerId%22%3A+%22AR202009090101%22%2C+%22marketplace%22%3A+false%7D%2C+%7B%22offerId%22%3A+%22AR202009090099%22%2C+%22marketplace%22%3A+false%7D%2C+%7B%22offerId%22%3A+%22AR202012070098%22%2C+%22marketplace%22%3A+false%7D%2C+%7B%22offerId%22%3A+%22AR202009100088%22%2C+%22marketplace%22%3A+false%7D%2C+%7B%22offerId%22%3A+%22AR202009090098%22%2C+%22marketplace%22%3A+false%7D%2C+%7B%22offerId%22%3A+%22AR202009090100%22%2C+%22marketplace%22%3A+false%7D%2C+%7B%22offerId%22%3A+%22AR202012070099%22%2C+%22marketplace%22%3A+false%7D%5D%2C+%22shops%22%3A+%5B%7B%22shopId%22%3A+-1%7D%5D%7D&shopId=-1&displayGroups=Web&shopsAvailability=%7B%22AR202009090101%22%3A+%220%22%2C+%22AR202009090099%22%3A+%220%22%2C+%22AR202012070098%22%3A+%220%22%2C+%22AR202009100088%22%3A+%220%22%2C+%22AR202009090098%22%3A+%220%22%2C+%22AR202009090100%22%3A+%220%22%2C+%22AR202012070099%22%3A+%220%22%7D\"\n",
    "payload = {\n",
    "    \"json\": json.dumps({\n",
    "        \"currencyISOCode3\":\"EUR\",\n",
    "        \"offers\":[\n",
    "            {\"offerId\":\"AR202009090101\",\"marketplace\":False},\n",
    "            {\"offerId\":\"AR202009090099\",\"marketplace\":False},\n",
    "            {\"offerId\":\"AR202012070098\",\"marketplace\":False},\n",
    "            {\"offerId\":\"AR202009100088\",\"marketplace\":False},\n",
    "            {\"offerId\":\"AR202009090098\",\"marketplace\":False},\n",
    "            {\"offerId\":\"AR202009090100\",\"marketplace\":False},\n",
    "            {\"offerId\":\"AR202012070099\",\"marketplace\":False}],\n",
    "        \"shops\":[{\"shopId\":-1}]}),\n",
    "    # \"shopId\": -1,\n",
    "    # \"displayGroups\": \"Web\",\n",
    "    # \"shopsAvailability\": json.dumps({\n",
    "    #     \"AR202009090101\":\"0\",\n",
    "    #     \"AR202009090099\":\"0\",\n",
    "    #     \"AR202012070098\":\"0\",\n",
    "    #     \"AR202009100088\":\"0\",\n",
    "    #     \"AR202009090098\":\"0\",\n",
    "    #     \"AR202009090100\":\"0\",\n",
    "    #     \"AR202012070099\":\"0\"})\n",
    "}\n",
    "# encoded = urlencode(payload)\n",
    "# decoded = urlparse(encoded)\n",
    "\n",
    "resp = requests.post(target_url, data=payload, headers=headers)\n",
    "resp.raise_for_status()"
   ],
   "metadata": {
    "collapsed": false,
    "pycharm": {
     "name": "#%%\n"
    }
   }
  },
  {
   "cell_type": "code",
   "execution_count": 78,
   "outputs": [
    {
     "name": "stdout",
     "output_type": "stream",
     "text": [
      "{   'nbShopsAvailability': [],\n",
      "    'price': {   'AR202009090098': '<div class=\"o-product__prices \"><span '\n",
      "                                   'class=\"o-product__price\">849€<sup>95</sup></span></div>',\n",
      "                 'AR202009090099': '<div class=\"o-product__prices \"><span '\n",
      "                                   'class=\"o-product__price\">899€<sup>95</sup></span></div>',\n",
      "                 'AR202009090100': '<div class=\"o-product__prices \"><span '\n",
      "                                   'class=\"o-product__price\">989€<sup>95</sup></span></div>',\n",
      "                 'AR202009090101': '<div class=\"o-product__prices \"><span '\n",
      "                                   'class=\"o-product__price\">999€<sup>95</sup></span></div>',\n",
      "                 'AR202009100088': '<div class=\"o-product__prices \"><span '\n",
      "                                   'class=\"o-product__price\">929€<sup>95</sup></span></div>',\n",
      "                 'AR202012070098': '<div class=\"o-product__prices \"><span '\n",
      "                                   'class=\"o-product__price\">1&nbsp;029€<sup>95</sup></span></div>',\n",
      "                 'AR202012070099': '<div class=\"o-product__prices \"><span '\n",
      "                                   'class=\"o-product__price\">999€<sup>95</sup></span></div>'},\n",
      "    'stock': {   'AR202009090098': '<div data-stock-web=\"9\" '\n",
      "                                   'class=\"o-availability o-modal__opener '\n",
      "                                   'js-modal-trigger__availability '\n",
      "                                   'js__stock_web\" data-toggle=\"modal\" '\n",
      "                                   'data-target=\"#o-modal\"><span '\n",
      "                                   'class=\"o-availability__label\">Dispo web : '\n",
      "                                   '</span><span class=\"o-availability__value '\n",
      "                                   'o-availability__value--stock_9\">Rupture</span></div>',\n",
      "                 'AR202009090099': '<div data-stock-web=\"9\" '\n",
      "                                   'class=\"o-availability o-modal__opener '\n",
      "                                   'js-modal-trigger__availability '\n",
      "                                   'js__stock_web\" data-toggle=\"modal\" '\n",
      "                                   'data-target=\"#o-modal\"><span '\n",
      "                                   'class=\"o-availability__label\">Dispo web : '\n",
      "                                   '</span><span class=\"o-availability__value '\n",
      "                                   'o-availability__value--stock_9\">Rupture</span></div>',\n",
      "                 'AR202009090100': '<div data-stock-web=\"9\" '\n",
      "                                   'class=\"o-availability o-modal__opener '\n",
      "                                   'js-modal-trigger__availability '\n",
      "                                   'js__stock_web\" data-toggle=\"modal\" '\n",
      "                                   'data-target=\"#o-modal\"><span '\n",
      "                                   'class=\"o-availability__label\">Dispo web : '\n",
      "                                   '</span><span class=\"o-availability__value '\n",
      "                                   'o-availability__value--stock_9\">Rupture</span></div>',\n",
      "                 'AR202009090101': '<div data-stock-web=\"9\" '\n",
      "                                   'class=\"o-availability o-modal__opener '\n",
      "                                   'js-modal-trigger__availability '\n",
      "                                   'js__stock_web\" data-toggle=\"modal\" '\n",
      "                                   'data-target=\"#o-modal\"><span '\n",
      "                                   'class=\"o-availability__label\">Dispo web : '\n",
      "                                   '</span><span class=\"o-availability__value '\n",
      "                                   'o-availability__value--stock_9\">Rupture</span></div>',\n",
      "                 'AR202009100088': '<div data-stock-web=\"9\" '\n",
      "                                   'class=\"o-availability o-modal__opener '\n",
      "                                   'js-modal-trigger__availability '\n",
      "                                   'js__stock_web\" data-toggle=\"modal\" '\n",
      "                                   'data-target=\"#o-modal\"><span '\n",
      "                                   'class=\"o-availability__label\">Dispo web : '\n",
      "                                   '</span><span class=\"o-availability__value '\n",
      "                                   'o-availability__value--stock_9\">Rupture</span></div>',\n",
      "                 'AR202012070098': '<div data-stock-web=\"9\" '\n",
      "                                   'class=\"o-availability o-modal__opener '\n",
      "                                   'js-modal-trigger__availability '\n",
      "                                   'js__stock_web\" data-toggle=\"modal\" '\n",
      "                                   'data-target=\"#o-modal\"><span '\n",
      "                                   'class=\"o-availability__label\">Dispo web : '\n",
      "                                   '</span><span class=\"o-availability__value '\n",
      "                                   'o-availability__value--stock_9\">Rupture</span></div>',\n",
      "                 'AR202012070099': '<div data-stock-web=\"9\" '\n",
      "                                   'class=\"o-availability o-modal__opener '\n",
      "                                   'js-modal-trigger__availability '\n",
      "                                   'js__stock_web\" data-toggle=\"modal\" '\n",
      "                                   'data-target=\"#o-modal\"><span '\n",
      "                                   'class=\"o-availability__label\">Dispo web : '\n",
      "                                   '</span><span class=\"o-availability__value '\n",
      "                                   'o-availability__value--stock_9\">Rupture</span></div>'},\n",
      "    'stockShop': []}\n"
     ]
    }
   ],
   "source": [
    "pp.pprint(resp.json())"
   ],
   "metadata": {
    "collapsed": false,
    "pycharm": {
     "name": "#%%\n"
    }
   }
  },
  {
   "cell_type": "code",
   "execution_count": 104,
   "outputs": [
    {
     "data": {
      "text/plain": "False"
     },
     "execution_count": 104,
     "metadata": {},
     "output_type": "execute_result"
    }
   ],
   "source": [
    "import re\n",
    "len(json[\"price\"])\n",
    "def is_in_stock(art):\n",
    "    match = re.search(r\"o-availability__value--stock_([0-9])\", art)\n",
    "    assert match\n",
    "    return int(match[1]) <= 2\n",
    "\n",
    "any(map(is_in_stock, json[\"stock\"].values()))"
   ],
   "metadata": {
    "collapsed": false,
    "pycharm": {
     "name": "#%%\n"
    }
   }
  },
  {
   "cell_type": "code",
   "execution_count": 4,
   "outputs": [
    {
     "name": "stdout",
     "output_type": "stream",
     "text": [
      "[1, 2, 3]\n",
      "[1, 2, 3]\n",
      "[10, 2, 3]\n"
     ]
    },
    {
     "ename": "TypeError",
     "evalue": "'int' object is not iterable",
     "output_type": "error",
     "traceback": [
      "\u001B[1;31m---------------------------------------------------------------------------\u001B[0m",
      "\u001B[1;31mTypeError\u001B[0m                                 Traceback (most recent call last)",
      "\u001B[1;32m<ipython-input-4-40048abd6d8b>\u001B[0m in \u001B[0;36m<module>\u001B[1;34m\u001B[0m\n\u001B[0;32m      8\u001B[0m \u001B[0mprint\u001B[0m\u001B[1;33m(\u001B[0m\u001B[0mb\u001B[0m\u001B[1;33m)\u001B[0m\u001B[1;33m\u001B[0m\u001B[1;33m\u001B[0m\u001B[0m\n\u001B[0;32m      9\u001B[0m \u001B[1;33m\u001B[0m\u001B[0m\n\u001B[1;32m---> 10\u001B[1;33m \u001B[0mc\u001B[0m \u001B[1;33m=\u001B[0m \u001B[0mlist\u001B[0m\u001B[1;33m(\u001B[0m\u001B[1;36m10\u001B[0m\u001B[1;33m)\u001B[0m\u001B[1;33m\u001B[0m\u001B[1;33m\u001B[0m\u001B[0m\n\u001B[0m",
      "\u001B[1;31mTypeError\u001B[0m: 'int' object is not iterable"
     ]
    }
   ],
   "source": [
    "a = [1, 2, 3]\n",
    "\n",
    "b = list(a)\n",
    "\n",
    "print(b)\n",
    "b[0] = 10\n",
    "print(a)\n",
    "print(b)\n",
    "\n",
    "c = list(10)"
   ],
   "metadata": {
    "collapsed": false,
    "pycharm": {
     "name": "#%%\n"
    }
   }
  }
 ],
 "metadata": {
  "kernelspec": {
   "display_name": "Python 3",
   "language": "python",
   "name": "python3"
  },
  "language_info": {
   "codemirror_mode": {
    "name": "ipython",
    "version": 2
   },
   "file_extension": ".py",
   "mimetype": "text/x-python",
   "name": "python",
   "nbconvert_exporter": "python",
   "pygments_lexer": "ipython2",
   "version": "2.7.6"
  }
 },
 "nbformat": 4,
 "nbformat_minor": 0
}