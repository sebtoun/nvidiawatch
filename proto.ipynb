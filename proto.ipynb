{
 "cells": [
  {
   "cell_type": "code",
   "execution_count": 2,
   "metadata": {
    "collapsed": true
   },
   "outputs": [],
   "source": [
    "from bs4 import BeautifulSoup\n",
    "from datetime import datetime\n",
    "from  urllib.parse import quote, urlencode, urlparse\n",
    "import json\n",
    "from pprint import PrettyPrinter\n",
    "pp = PrettyPrinter(indent=4)\n",
    "\n",
    "import requests\n",
    "\n",
    "def make_soup(content):\n",
    "    return BeautifulSoup(content, 'html.parser')"
   ]
  },
  {
   "cell_type": "code",
   "execution_count": 26,
   "outputs": [],
   "source": [
    "USER_AGENT = \"Mozilla/5.0 (Windows NT 10.0; Win64; x64) AppleWebKit/537.36 (KHTML, like Gecko) Chrome/87.0.4280.88 \" \\\n",
    "             \"Safari/537.36 \"\n",
    "\n",
    "keywords=[\"ryzen\", \"5900x\"]\n",
    "\n",
    "headers = {\n",
    "    'user-agent': USER_AGENT,\n",
    "    # \"accept-language\": \"fr-FR,fr;q=0.9,en-US;q=0.8,en;q=0.7\"\n",
    "}\n",
    "\n",
    "url = f\"https://www.amd.com/fr/direct-buy/fr\"\n",
    "\n",
    "session = requests.Session()\n",
    "session.headers.update(headers)\n",
    "\n",
    "session.cookies.set(\"pmuser_country\", \"fr\", domain=\"www.amd.com\")\n",
    "resp = session.get(url)\n",
    "resp.raise_for_status()\n"
   ],
   "metadata": {
    "collapsed": false,
    "pycharm": {
     "name": "#%%\n"
    }
   }
  },
  {
   "cell_type": "code",
   "execution_count": 27,
   "outputs": [
    {
     "name": "stdout",
     "output_type": "stream",
     "text": [
      "[('AMD Ryzen™ 9 3950X Processeur de Bureau', 739.51, True, '/fr/direct-buy/5358858000/fr'), ('Processeur de bureau AMD Ryzen™ 9 3900X', 458.21, False, '/fr/direct-buy/5335621900/fr'), ('AMD Radeon™ RX 6900 XT Graphics', 986.47, False, '/fr/direct-buy/5458374200/fr'), ('AMD Radeon™ RX 6800 XT Graphics', 641.02, False, '/fr/direct-buy/5458374100/fr'), ('AMD Radeon™ RX 6800 Graphics', 571.93, False, '/fr/direct-buy/5458374000/fr'), ('AMD RYZEN™ 9 5950X Processor', 788.86, False, '/fr/direct-buy/5450881400/fr'), ('AMD RYZEN™ 9 5900X Processor', 542.1, False, '/fr/direct-buy/5450881500/fr'), ('AMD RYZEN™ 7 5800X Processor', 443.4, False, '/fr/direct-buy/5450881600/fr'), ('AMD RYZEN™ 5 5600X Processor', 295.36, False, '/fr/direct-buy/5450881700/fr')]\n"
     ]
    }
   ],
   "source": [
    "bs = make_soup(resp.content)\n",
    "\n",
    "items = bs.select(\".view-shop-product-search .shop-content\")\n",
    "\n",
    "result = []\n",
    "for item in items:\n",
    "    title = item.select_one(\".shop-title\").get_text().strip()\n",
    "    item_url_path = item.select_one(\".shop-details a\").attrs[\"href\"]\n",
    "    in_stock = item.select_one(\".shop-links button\") is not None\n",
    "    price = float(item.select_one('.shop-price').get_text().replace('€', '').replace('$', '').replace(',', '.').strip())\n",
    "    result.append((title, price, in_stock, item_url_path))\n",
    "\n",
    "\n",
    "print(result)"
   ],
   "metadata": {
    "collapsed": false,
    "pycharm": {
     "name": "#%%\n"
    }
   }
  },
  {
   "cell_type": "code",
   "execution_count": null,
   "outputs": [],
   "source": [
    "resp_json = resp.json()\n",
    "pp.pprint(resp_json[\"produits\"][0])"
   ],
   "metadata": {
    "collapsed": false,
    "pycharm": {
     "name": "#%%\n"
    }
   }
  },
  {
   "cell_type": "code",
   "execution_count": 72,
   "outputs": [
    {
     "name": "stdout",
     "output_type": "stream",
     "text": [
      "{   '@context': 'http://schema.org/',\n",
      "    '@type': 'Product',\n",
      "    'brand': {'@type': 'Brand', 'name': 'EVGA'},\n",
      "    'description': 'La carte graphique EVGA GeForce RTX 3080 XC3 GAMING '\n",
      "                   'embarque 10 Go de mémoire vidéo de nouvelle génération '\n",
      "                   \"GDDR6X. Ce modèle overclocké d'usine bénéficie de \"\n",
      "                   \"fréquences de fonctionnement élevées et d'un système de \"\n",
      "                   'refroidissement amélioré gage de fiabilité et de '\n",
      "                   'performances à long terme.',\n",
      "    'mpn': '10G-P5-3883-KR',\n",
      "    'name': 'EVGA GeForce RTX 3080 XC3 GAMING',\n",
      "    'offers': {   '@type': 'Offer',\n",
      "                  'availability': 'http://schema.org/OutOfStock',\n",
      "                  'price': '863.95',\n",
      "                  'priceCurrency': 'EUR'}}\n"
     ]
    }
   ],
   "source": [
    "metadata = bs.find(\"script\", attrs={'type':'application/ld+json'})\n",
    "pp.pprint(json.loads(metadata.string))"
   ],
   "metadata": {
    "collapsed": false,
    "pycharm": {
     "name": "#%%\n"
    }
   }
  },
  {
   "cell_type": "code",
   "execution_count": 90,
   "outputs": [
    {
     "name": "stdout",
     "output_type": "stream",
     "text": [
      "\n",
      "EVGA GeForce RTX 3090 FTW3 GAMING\n",
      "24 Go GDDR6X - HDMI/Tri DisplayPort - PCI Express (NVIDIA GeForce RTX 3090)\n",
      "\n",
      "\n",
      "Call of Duty : Black Ops Cold War offert avec NVIDIA\n",
      "                    \n",
      "\n",
      "\n"
     ]
    },
    {
     "data": {
      "text/plain": "'9'"
     },
     "execution_count": 90,
     "metadata": {},
     "output_type": "execute_result"
    }
   ],
   "source": [
    "import re\n",
    "item = items[0]\n",
    "print(item.find(class_=\"description\").get_text())\n",
    "item_id = item.attrs[\"id\"]\n",
    "script_data = ''.join(s.string for s in bs.find_all(\"script\", attrs={\"src\": None}))\n",
    "re.search(\"#{id}.*?stock-wrapper.*?stock-([0-9])\".format(id=item_id), script_data)[1]"
   ],
   "metadata": {
    "collapsed": false,
    "pycharm": {
     "name": "#%%\n"
    }
   }
  },
  {
   "cell_type": "code",
   "execution_count": 77,
   "outputs": [],
   "source": [
    "target_url = \"https://www.materiel.net/product-listing/stock-price/\"\n",
    "# target_url = \"https://shop.hardware.fr/stock-price/\"\n",
    "headers = {\n",
    "    'user-agent': \"Mozilla/5.0 (Windows NT 10.0; Win64; x64) AppleWebKit/537.36 (KHTML, like Gecko) Chrome/87.0.4280.88 Safari/537.36\",\n",
    "    # 'content-type': 'application/x-www-form-urlencoded; charset=UTF-8',\n",
    "    'x-requested-with': 'XMLHttpRequest'\n",
    "}\n",
    "# payload = \"json=%7B%22currencyISOCode3%22%3A%22EUR%22%2C%22offers%22%3A%5B%7B%22offerId%22%3A%22AR202009090100%22%2C%22marketplace%22%3Afalse%7D%2C%7B%22offerId%22%3A%22AR202009090101%22%2C%22marketplace%22%3Afalse%7D%2C%7B%22offerId%22%3A%22AR202012070098%22%2C%22marketplace%22%3Afalse%7D%2C%7B%22offerId%22%3A%22AR202009090098%22%2C%22marketplace%22%3Afalse%7D%2C%7B%22offerId%22%3A%22AR202009090099%22%2C%22marketplace%22%3Afalse%7D%2C%7B%22offerId%22%3A%22AR202009100088%22%2C%22marketplace%22%3Afalse%7D%2C%7B%22offerId%22%3A%22AR202012070099%22%2C%22marketplace%22%3Afalse%7D%5D%2C%22shops%22%3A%5B%7B%22shopId%22%3A-1%7D%5D%7D&shopId=-1&displayGroups=Web&shopsAvailability=%7B%22AR202009090100%22%3A%220%22%2C%22AR202009090101%22%3A%220%22%2C%22AR202012070098%22%3A%220%22%2C%22AR202009090098%22%3A%220%22%2C%22AR202009090099%22%3A%220%22%2C%22AR202009100088%22%3A%220%22%2C%22AR202012070099%22%3A%220%22%7D\"\n",
    "# payload = \"json=%7B%22currencyISOCode3%22%3A+%22EUR%22%2C+%22offers%22%3A+%5B%7B%22offerId%22%3A+%22AR202009090101%22%2C+%22marketplace%22%3A+false%7D%2C+%7B%22offerId%22%3A+%22AR202009090099%22%2C+%22marketplace%22%3A+false%7D%2C+%7B%22offerId%22%3A+%22AR202012070098%22%2C+%22marketplace%22%3A+false%7D%2C+%7B%22offerId%22%3A+%22AR202009100088%22%2C+%22marketplace%22%3A+false%7D%2C+%7B%22offerId%22%3A+%22AR202009090098%22%2C+%22marketplace%22%3A+false%7D%2C+%7B%22offerId%22%3A+%22AR202009090100%22%2C+%22marketplace%22%3A+false%7D%2C+%7B%22offerId%22%3A+%22AR202012070099%22%2C+%22marketplace%22%3A+false%7D%5D%2C+%22shops%22%3A+%5B%7B%22shopId%22%3A+-1%7D%5D%7D&shopId=-1&displayGroups=Web&shopsAvailability=%7B%22AR202009090101%22%3A+%220%22%2C+%22AR202009090099%22%3A+%220%22%2C+%22AR202012070098%22%3A+%220%22%2C+%22AR202009100088%22%3A+%220%22%2C+%22AR202009090098%22%3A+%220%22%2C+%22AR202009090100%22%3A+%220%22%2C+%22AR202012070099%22%3A+%220%22%7D\"\n",
    "payload = {\n",
    "    \"json\": json.dumps({\n",
    "        \"currencyISOCode3\":\"EUR\",\n",
    "        \"offers\":[\n",
    "            {\"offerId\":\"AR202009090101\",\"marketplace\":False},\n",
    "            {\"offerId\":\"AR202009090099\",\"marketplace\":False},\n",
    "            {\"offerId\":\"AR202012070098\",\"marketplace\":False},\n",
    "            {\"offerId\":\"AR202009100088\",\"marketplace\":False},\n",
    "            {\"offerId\":\"AR202009090098\",\"marketplace\":False},\n",
    "            {\"offerId\":\"AR202009090100\",\"marketplace\":False},\n",
    "            {\"offerId\":\"AR202012070099\",\"marketplace\":False}],\n",
    "        \"shops\":[{\"shopId\":-1}]}),\n",
    "    # \"shopId\": -1,\n",
    "    # \"displayGroups\": \"Web\",\n",
    "    # \"shopsAvailability\": json.dumps({\n",
    "    #     \"AR202009090101\":\"0\",\n",
    "    #     \"AR202009090099\":\"0\",\n",
    "    #     \"AR202012070098\":\"0\",\n",
    "    #     \"AR202009100088\":\"0\",\n",
    "    #     \"AR202009090098\":\"0\",\n",
    "    #     \"AR202009090100\":\"0\",\n",
    "    #     \"AR202012070099\":\"0\"})\n",
    "}\n",
    "# encoded = urlencode(payload)\n",
    "# decoded = urlparse(encoded)\n",
    "\n",
    "resp = requests.post(target_url, data=payload, headers=headers)\n",
    "resp.raise_for_status()"
   ],
   "metadata": {
    "collapsed": false,
    "pycharm": {
     "name": "#%%\n"
    }
   }
  },
  {
   "cell_type": "code",
   "execution_count": 78,
   "outputs": [
    {
     "name": "stdout",
     "output_type": "stream",
     "text": [
      "{   'nbShopsAvailability': [],\n",
      "    'price': {   'AR202009090098': '<div class=\"o-product__prices \"><span '\n",
      "                                   'class=\"o-product__price\">849€<sup>95</sup></span></div>',\n",
      "                 'AR202009090099': '<div class=\"o-product__prices \"><span '\n",
      "                                   'class=\"o-product__price\">899€<sup>95</sup></span></div>',\n",
      "                 'AR202009090100': '<div class=\"o-product__prices \"><span '\n",
      "                                   'class=\"o-product__price\">989€<sup>95</sup></span></div>',\n",
      "                 'AR202009090101': '<div class=\"o-product__prices \"><span '\n",
      "                                   'class=\"o-product__price\">999€<sup>95</sup></span></div>',\n",
      "                 'AR202009100088': '<div class=\"o-product__prices \"><span '\n",
      "                                   'class=\"o-product__price\">929€<sup>95</sup></span></div>',\n",
      "                 'AR202012070098': '<div class=\"o-product__prices \"><span '\n",
      "                                   'class=\"o-product__price\">1&nbsp;029€<sup>95</sup></span></div>',\n",
      "                 'AR202012070099': '<div class=\"o-product__prices \"><span '\n",
      "                                   'class=\"o-product__price\">999€<sup>95</sup></span></div>'},\n",
      "    'stock': {   'AR202009090098': '<div data-stock-web=\"9\" '\n",
      "                                   'class=\"o-availability o-modal__opener '\n",
      "                                   'js-modal-trigger__availability '\n",
      "                                   'js__stock_web\" data-toggle=\"modal\" '\n",
      "                                   'data-target=\"#o-modal\"><span '\n",
      "                                   'class=\"o-availability__label\">Dispo web : '\n",
      "                                   '</span><span class=\"o-availability__value '\n",
      "                                   'o-availability__value--stock_9\">Rupture</span></div>',\n",
      "                 'AR202009090099': '<div data-stock-web=\"9\" '\n",
      "                                   'class=\"o-availability o-modal__opener '\n",
      "                                   'js-modal-trigger__availability '\n",
      "                                   'js__stock_web\" data-toggle=\"modal\" '\n",
      "                                   'data-target=\"#o-modal\"><span '\n",
      "                                   'class=\"o-availability__label\">Dispo web : '\n",
      "                                   '</span><span class=\"o-availability__value '\n",
      "                                   'o-availability__value--stock_9\">Rupture</span></div>',\n",
      "                 'AR202009090100': '<div data-stock-web=\"9\" '\n",
      "                                   'class=\"o-availability o-modal__opener '\n",
      "                                   'js-modal-trigger__availability '\n",
      "                                   'js__stock_web\" data-toggle=\"modal\" '\n",
      "                                   'data-target=\"#o-modal\"><span '\n",
      "                                   'class=\"o-availability__label\">Dispo web : '\n",
      "                                   '</span><span class=\"o-availability__value '\n",
      "                                   'o-availability__value--stock_9\">Rupture</span></div>',\n",
      "                 'AR202009090101': '<div data-stock-web=\"9\" '\n",
      "                                   'class=\"o-availability o-modal__opener '\n",
      "                                   'js-modal-trigger__availability '\n",
      "                                   'js__stock_web\" data-toggle=\"modal\" '\n",
      "                                   'data-target=\"#o-modal\"><span '\n",
      "                                   'class=\"o-availability__label\">Dispo web : '\n",
      "                                   '</span><span class=\"o-availability__value '\n",
      "                                   'o-availability__value--stock_9\">Rupture</span></div>',\n",
      "                 'AR202009100088': '<div data-stock-web=\"9\" '\n",
      "                                   'class=\"o-availability o-modal__opener '\n",
      "                                   'js-modal-trigger__availability '\n",
      "                                   'js__stock_web\" data-toggle=\"modal\" '\n",
      "                                   'data-target=\"#o-modal\"><span '\n",
      "                                   'class=\"o-availability__label\">Dispo web : '\n",
      "                                   '</span><span class=\"o-availability__value '\n",
      "                                   'o-availability__value--stock_9\">Rupture</span></div>',\n",
      "                 'AR202012070098': '<div data-stock-web=\"9\" '\n",
      "                                   'class=\"o-availability o-modal__opener '\n",
      "                                   'js-modal-trigger__availability '\n",
      "                                   'js__stock_web\" data-toggle=\"modal\" '\n",
      "                                   'data-target=\"#o-modal\"><span '\n",
      "                                   'class=\"o-availability__label\">Dispo web : '\n",
      "                                   '</span><span class=\"o-availability__value '\n",
      "                                   'o-availability__value--stock_9\">Rupture</span></div>',\n",
      "                 'AR202012070099': '<div data-stock-web=\"9\" '\n",
      "                                   'class=\"o-availability o-modal__opener '\n",
      "                                   'js-modal-trigger__availability '\n",
      "                                   'js__stock_web\" data-toggle=\"modal\" '\n",
      "                                   'data-target=\"#o-modal\"><span '\n",
      "                                   'class=\"o-availability__label\">Dispo web : '\n",
      "                                   '</span><span class=\"o-availability__value '\n",
      "                                   'o-availability__value--stock_9\">Rupture</span></div>'},\n",
      "    'stockShop': []}\n"
     ]
    }
   ],
   "source": [
    "pp.pprint(resp.json())"
   ],
   "metadata": {
    "collapsed": false,
    "pycharm": {
     "name": "#%%\n"
    }
   }
  },
  {
   "cell_type": "code",
   "execution_count": 104,
   "outputs": [
    {
     "data": {
      "text/plain": "False"
     },
     "execution_count": 104,
     "metadata": {},
     "output_type": "execute_result"
    }
   ],
   "source": [
    "import re\n",
    "len(json[\"price\"])\n",
    "def is_in_stock(art):\n",
    "    match = re.search(r\"o-availability__value--stock_([0-9])\", art)\n",
    "    assert match\n",
    "    return int(match[1]) <= 2\n",
    "\n",
    "any(map(is_in_stock, json[\"stock\"].values()))"
   ],
   "metadata": {
    "collapsed": false,
    "pycharm": {
     "name": "#%%\n"
    }
   }
  },
  {
   "cell_type": "code",
   "execution_count": 4,
   "outputs": [
    {
     "name": "stdout",
     "output_type": "stream",
     "text": [
      "[1, 2, 3]\n",
      "[1, 2, 3]\n",
      "[10, 2, 3]\n"
     ]
    },
    {
     "ename": "TypeError",
     "evalue": "'int' object is not iterable",
     "output_type": "error",
     "traceback": [
      "\u001B[1;31m---------------------------------------------------------------------------\u001B[0m",
      "\u001B[1;31mTypeError\u001B[0m                                 Traceback (most recent call last)",
      "\u001B[1;32m<ipython-input-4-40048abd6d8b>\u001B[0m in \u001B[0;36m<module>\u001B[1;34m\u001B[0m\n\u001B[0;32m      8\u001B[0m \u001B[0mprint\u001B[0m\u001B[1;33m(\u001B[0m\u001B[0mb\u001B[0m\u001B[1;33m)\u001B[0m\u001B[1;33m\u001B[0m\u001B[1;33m\u001B[0m\u001B[0m\n\u001B[0;32m      9\u001B[0m \u001B[1;33m\u001B[0m\u001B[0m\n\u001B[1;32m---> 10\u001B[1;33m \u001B[0mc\u001B[0m \u001B[1;33m=\u001B[0m \u001B[0mlist\u001B[0m\u001B[1;33m(\u001B[0m\u001B[1;36m10\u001B[0m\u001B[1;33m)\u001B[0m\u001B[1;33m\u001B[0m\u001B[1;33m\u001B[0m\u001B[0m\n\u001B[0m",
      "\u001B[1;31mTypeError\u001B[0m: 'int' object is not iterable"
     ]
    }
   ],
   "source": [
    "a = [1, 2, 3]\n",
    "\n",
    "b = list(a)\n",
    "\n",
    "print(b)\n",
    "b[0] = 10\n",
    "print(a)\n",
    "print(b)\n",
    "\n",
    "c = list(10)"
   ],
   "metadata": {
    "collapsed": false,
    "pycharm": {
     "name": "#%%\n"
    }
   }
  }
 ],
 "metadata": {
  "kernelspec": {
   "display_name": "Python 3",
   "language": "python",
   "name": "python3"
  },
  "language_info": {
   "codemirror_mode": {
    "name": "ipython",
    "version": 2
   },
   "file_extension": ".py",
   "mimetype": "text/x-python",
   "name": "python",
   "nbconvert_exporter": "python",
   "pygments_lexer": "ipython2",
   "version": "2.7.6"
  }
 },
 "nbformat": 4,
 "nbformat_minor": 0
}