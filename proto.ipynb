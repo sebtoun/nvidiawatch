{
 "cells": [
  {
   "cell_type": "code",
   "execution_count": 55,
   "metadata": {
    "collapsed": true
   },
   "outputs": [],
   "source": [
    "import requests\n",
    "from bs4 import BeautifulSoup\n",
    "from datetime import datetime\n",
    "from  urllib.parse import quote, urlencode, urlparse\n",
    "import json\n",
    "from pprint import PrettyPrinter\n",
    "pp = PrettyPrinter(indent=4)\n",
    "\n",
    "def make_soup(resp: requests.Response):\n",
    "    return BeautifulSoup(resp.content, 'html.parser')"
   ]
  },
  {
   "cell_type": "code",
   "execution_count": 56,
   "outputs": [],
   "source": [
    "keywords=[\"evga\", \"3080\"]\n",
    "url = f\"https://www.materiel.net/recherche/{quote('+'.join(keywords))}/\"\n",
    "\n",
    "resp = requests.get(url)\n",
    "resp.raise_for_status()\n",
    "\n",
    "bs = make_soup(resp)"
   ],
   "metadata": {
    "collapsed": false,
    "pycharm": {
     "name": "#%%\n"
    }
   }
  },
  {
   "cell_type": "code",
   "execution_count": 57,
   "outputs": [
    {
     "name": "stdout",
     "output_type": "stream",
     "text": [
      "7\n"
     ]
    }
   ],
   "source": [
    "items = bs.select(\"ul.c-products-list li.c-products-list__item\")\n",
    "print(len(items))"
   ],
   "metadata": {
    "collapsed": false,
    "pycharm": {
     "name": "#%%\n"
    }
   }
  },
  {
   "cell_type": "code",
   "execution_count": 90,
   "outputs": [
    {
     "name": "stdout",
     "output_type": "stream",
     "text": [
      "\n",
      "EVGA GeForce RTX 3090 FTW3 GAMING\n",
      "24 Go GDDR6X - HDMI/Tri DisplayPort - PCI Express (NVIDIA GeForce RTX 3090)\n",
      "\n",
      "\n",
      "Call of Duty : Black Ops Cold War offert avec NVIDIA\n",
      "                    \n",
      "\n",
      "\n"
     ]
    },
    {
     "data": {
      "text/plain": "'9'"
     },
     "execution_count": 90,
     "metadata": {},
     "output_type": "execute_result"
    }
   ],
   "source": [
    "import re\n",
    "item = items[0]\n",
    "print(item.find(class_=\"description\").get_text())\n",
    "item_id = item.attrs[\"id\"]\n",
    "script_data = ''.join(s.string for s in bs.find_all(\"script\", attrs={\"src\": None}))\n",
    "re.search(\"#{id}.*?stock-wrapper.*?stock-([0-9])\".format(id=item_id), script_data)[1]"
   ],
   "metadata": {
    "collapsed": false,
    "pycharm": {
     "name": "#%%\n"
    }
   }
  },
  {
   "cell_type": "code",
   "execution_count": 51,
   "outputs": [],
   "source": [
    "target_url = \"https://www.materiel.net/product-listing/stock-price/\"\n",
    "headers = {\n",
    "    'user-agent': \"Mozilla/5.0 (Windows NT 10.0; Win64; x64) AppleWebKit/537.36 (KHTML, like Gecko) Chrome/87.0.4280.88 Safari/537.36\",\n",
    "    # 'content-type': 'application/x-www-form-urlencoded; charset=UTF-8',\n",
    "    'x-requested-with': 'XMLHttpRequest'\n",
    "}\n",
    "# payload = \"json=%7B%22currencyISOCode3%22%3A%22EUR%22%2C%22offers%22%3A%5B%7B%22offerId%22%3A%22AR202009090100%22%2C%22marketplace%22%3Afalse%7D%2C%7B%22offerId%22%3A%22AR202009090101%22%2C%22marketplace%22%3Afalse%7D%2C%7B%22offerId%22%3A%22AR202012070098%22%2C%22marketplace%22%3Afalse%7D%2C%7B%22offerId%22%3A%22AR202009090098%22%2C%22marketplace%22%3Afalse%7D%2C%7B%22offerId%22%3A%22AR202009090099%22%2C%22marketplace%22%3Afalse%7D%2C%7B%22offerId%22%3A%22AR202009100088%22%2C%22marketplace%22%3Afalse%7D%2C%7B%22offerId%22%3A%22AR202012070099%22%2C%22marketplace%22%3Afalse%7D%5D%2C%22shops%22%3A%5B%7B%22shopId%22%3A-1%7D%5D%7D&shopId=-1&displayGroups=Web&shopsAvailability=%7B%22AR202009090100%22%3A%220%22%2C%22AR202009090101%22%3A%220%22%2C%22AR202012070098%22%3A%220%22%2C%22AR202009090098%22%3A%220%22%2C%22AR202009090099%22%3A%220%22%2C%22AR202009100088%22%3A%220%22%2C%22AR202012070099%22%3A%220%22%7D\"\n",
    "# payload = \"json=%7B%22currencyISOCode3%22%3A+%22EUR%22%2C+%22offers%22%3A+%5B%7B%22offerId%22%3A+%22AR202009090101%22%2C+%22marketplace%22%3A+false%7D%2C+%7B%22offerId%22%3A+%22AR202009090099%22%2C+%22marketplace%22%3A+false%7D%2C+%7B%22offerId%22%3A+%22AR202012070098%22%2C+%22marketplace%22%3A+false%7D%2C+%7B%22offerId%22%3A+%22AR202009100088%22%2C+%22marketplace%22%3A+false%7D%2C+%7B%22offerId%22%3A+%22AR202009090098%22%2C+%22marketplace%22%3A+false%7D%2C+%7B%22offerId%22%3A+%22AR202009090100%22%2C+%22marketplace%22%3A+false%7D%2C+%7B%22offerId%22%3A+%22AR202012070099%22%2C+%22marketplace%22%3A+false%7D%5D%2C+%22shops%22%3A+%5B%7B%22shopId%22%3A+-1%7D%5D%7D&shopId=-1&displayGroups=Web&shopsAvailability=%7B%22AR202009090101%22%3A+%220%22%2C+%22AR202009090099%22%3A+%220%22%2C+%22AR202012070098%22%3A+%220%22%2C+%22AR202009100088%22%3A+%220%22%2C+%22AR202009090098%22%3A+%220%22%2C+%22AR202009090100%22%3A+%220%22%2C+%22AR202012070099%22%3A+%220%22%7D\"\n",
    "payload = {\n",
    "    \"json\": json.dumps({\n",
    "        \"currencyISOCode3\":\"EUR\",\n",
    "        \"offers\":[\n",
    "            {\"offerId\":\"AR202009090101\",\"marketplace\":False},\n",
    "            {\"offerId\":\"AR202009090099\",\"marketplace\":False},\n",
    "            {\"offerId\":\"AR202012070098\",\"marketplace\":False},\n",
    "            {\"offerId\":\"AR202009100088\",\"marketplace\":False},\n",
    "            {\"offerId\":\"AR202009090098\",\"marketplace\":False},\n",
    "            {\"offerId\":\"AR202009090100\",\"marketplace\":False},\n",
    "            {\"offerId\":\"AR202012070099\",\"marketplace\":False}],\n",
    "        \"shops\":[{\"shopId\":-1}]}),\n",
    "    # \"shopId\": -1,\n",
    "    # \"displayGroups\": \"Web\",\n",
    "    # \"shopsAvailability\": json.dumps({\n",
    "    #     \"AR202009090101\":\"0\",\n",
    "    #     \"AR202009090099\":\"0\",\n",
    "    #     \"AR202012070098\":\"0\",\n",
    "    #     \"AR202009100088\":\"0\",\n",
    "    #     \"AR202009090098\":\"0\",\n",
    "    #     \"AR202009090100\":\"0\",\n",
    "    #     \"AR202012070099\":\"0\"})\n",
    "}\n",
    "# encoded = urlencode(payload)\n",
    "# decoded = urlparse(encoded)\n",
    "\n",
    "resp = requests.post(target_url, data=payload, headers=headers)\n",
    "resp.raise_for_status()"
   ],
   "metadata": {
    "collapsed": false,
    "pycharm": {
     "name": "#%%\n"
    }
   }
  },
  {
   "cell_type": "code",
   "execution_count": 52,
   "outputs": [
    {
     "name": "stdout",
     "output_type": "stream",
     "text": [
      "{   'nbShopsAvailability': [],\n",
      "    'price': {   'AR202009090098': '<div class=\"o-product__prices \"><span '\n",
      "                                   'class=\"o-product__price\">849€<sup>95</sup></span></div>',\n",
      "                 'AR202009090099': '<div class=\"o-product__prices \"><span '\n",
      "                                   'class=\"o-product__price\">899€<sup>95</sup></span></div>',\n",
      "                 'AR202009090100': '<div class=\"o-product__prices \"><span '\n",
      "                                   'class=\"o-product__price\">989€<sup>95</sup></span></div>',\n",
      "                 'AR202009090101': '<div class=\"o-product__prices \"><span '\n",
      "                                   'class=\"o-product__price\">999€<sup>95</sup></span></div>',\n",
      "                 'AR202009100088': '<div class=\"o-product__prices \"><span '\n",
      "                                   'class=\"o-product__price\">929€<sup>95</sup></span></div>',\n",
      "                 'AR202012070098': '<div class=\"o-product__prices \"><span '\n",
      "                                   'class=\"o-product__price\">1&nbsp;029€<sup>95</sup></span></div>',\n",
      "                 'AR202012070099': '<div class=\"o-product__prices \"><span '\n",
      "                                   'class=\"o-product__price\">999€<sup>95</sup></span></div>'},\n",
      "    'stock': {   'AR202009090098': '<div data-stock-web=\"9\" '\n",
      "                                   'class=\"o-availability o-modal__opener '\n",
      "                                   'js-modal-trigger__availability '\n",
      "                                   'js__stock_web\" data-toggle=\"modal\" '\n",
      "                                   'data-target=\"#o-modal\"><span '\n",
      "                                   'class=\"o-availability__label\">Dispo web : '\n",
      "                                   '</span><span class=\"o-availability__value '\n",
      "                                   'o-availability__value--stock_9\">Rupture</span></div>',\n",
      "                 'AR202009090099': '<div data-stock-web=\"9\" '\n",
      "                                   'class=\"o-availability o-modal__opener '\n",
      "                                   'js-modal-trigger__availability '\n",
      "                                   'js__stock_web\" data-toggle=\"modal\" '\n",
      "                                   'data-target=\"#o-modal\"><span '\n",
      "                                   'class=\"o-availability__label\">Dispo web : '\n",
      "                                   '</span><span class=\"o-availability__value '\n",
      "                                   'o-availability__value--stock_9\">Rupture</span></div>',\n",
      "                 'AR202009090100': '<div data-stock-web=\"9\" '\n",
      "                                   'class=\"o-availability o-modal__opener '\n",
      "                                   'js-modal-trigger__availability '\n",
      "                                   'js__stock_web\" data-toggle=\"modal\" '\n",
      "                                   'data-target=\"#o-modal\"><span '\n",
      "                                   'class=\"o-availability__label\">Dispo web : '\n",
      "                                   '</span><span class=\"o-availability__value '\n",
      "                                   'o-availability__value--stock_9\">Rupture</span></div>',\n",
      "                 'AR202009090101': '<div data-stock-web=\"9\" '\n",
      "                                   'class=\"o-availability o-modal__opener '\n",
      "                                   'js-modal-trigger__availability '\n",
      "                                   'js__stock_web\" data-toggle=\"modal\" '\n",
      "                                   'data-target=\"#o-modal\"><span '\n",
      "                                   'class=\"o-availability__label\">Dispo web : '\n",
      "                                   '</span><span class=\"o-availability__value '\n",
      "                                   'o-availability__value--stock_9\">Rupture</span></div>',\n",
      "                 'AR202009100088': '<div data-stock-web=\"9\" '\n",
      "                                   'class=\"o-availability o-modal__opener '\n",
      "                                   'js-modal-trigger__availability '\n",
      "                                   'js__stock_web\" data-toggle=\"modal\" '\n",
      "                                   'data-target=\"#o-modal\"><span '\n",
      "                                   'class=\"o-availability__label\">Dispo web : '\n",
      "                                   '</span><span class=\"o-availability__value '\n",
      "                                   'o-availability__value--stock_9\">Rupture</span></div>',\n",
      "                 'AR202012070098': '<div data-stock-web=\"9\" '\n",
      "                                   'class=\"o-availability o-modal__opener '\n",
      "                                   'js-modal-trigger__availability '\n",
      "                                   'js__stock_web\" data-toggle=\"modal\" '\n",
      "                                   'data-target=\"#o-modal\"><span '\n",
      "                                   'class=\"o-availability__label\">Dispo web : '\n",
      "                                   '</span><span class=\"o-availability__value '\n",
      "                                   'o-availability__value--stock_9\">Rupture</span></div>',\n",
      "                 'AR202012070099': '<div data-stock-web=\"9\" '\n",
      "                                   'class=\"o-availability o-modal__opener '\n",
      "                                   'js-modal-trigger__availability '\n",
      "                                   'js__stock_web\" data-toggle=\"modal\" '\n",
      "                                   'data-target=\"#o-modal\"><span '\n",
      "                                   'class=\"o-availability__label\">Dispo web : '\n",
      "                                   '</span><span class=\"o-availability__value '\n",
      "                                   'o-availability__value--stock_9\">Rupture</span></div>'},\n",
      "    'stockShop': []}\n"
     ]
    }
   ],
   "source": [
    "pp.pprint(resp.json())"
   ],
   "metadata": {
    "collapsed": false,
    "pycharm": {
     "name": "#%%\n"
    }
   }
  },
  {
   "cell_type": "code",
   "execution_count": 104,
   "outputs": [
    {
     "data": {
      "text/plain": "False"
     },
     "execution_count": 104,
     "metadata": {},
     "output_type": "execute_result"
    }
   ],
   "source": [
    "import re\n",
    "len(json[\"price\"])\n",
    "def is_in_stock(art):\n",
    "    match = re.search(r\"o-availability__value--stock_([0-9])\", art)\n",
    "    assert match\n",
    "    return int(match[1]) <= 2\n",
    "\n",
    "any(map(is_in_stock, json[\"stock\"].values()))"
   ],
   "metadata": {
    "collapsed": false,
    "pycharm": {
     "name": "#%%\n"
    }
   }
  },
  {
   "cell_type": "code",
   "execution_count": null,
   "outputs": [],
   "source": [],
   "metadata": {
    "collapsed": false,
    "pycharm": {
     "name": "#%%\n"
    }
   }
  }
 ],
 "metadata": {
  "kernelspec": {
   "display_name": "Python 3",
   "language": "python",
   "name": "python3"
  },
  "language_info": {
   "codemirror_mode": {
    "name": "ipython",
    "version": 2
   },
   "file_extension": ".py",
   "mimetype": "text/x-python",
   "name": "python",
   "nbconvert_exporter": "python",
   "pygments_lexer": "ipython2",
   "version": "2.7.6"
  }
 },
 "nbformat": 4,
 "nbformat_minor": 0
}